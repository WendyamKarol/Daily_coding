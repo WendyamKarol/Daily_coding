{
 "cells": [
  {
   "cell_type": "code",
   "execution_count": 1,
   "id": "6b26f498",
   "metadata": {},
   "outputs": [],
   "source": [
    "nums = [5,7,8,9,1,2,2]"
   ]
  },
  {
   "cell_type": "code",
   "execution_count": 6,
   "id": "902dcfd2",
   "metadata": {},
   "outputs": [
    {
     "name": "stdout",
     "output_type": "stream",
     "text": [
      "5\n",
      "7\n",
      "8\n",
      "9\n",
      "1\n",
      "2\n",
      "2\n"
     ]
    }
   ],
   "source": [
    "for num in nums:\n",
    "    print(num)"
   ]
  },
  {
   "cell_type": "code",
   "execution_count": 7,
   "id": "55527917",
   "metadata": {},
   "outputs": [
    {
     "name": "stdout",
     "output_type": "stream",
     "text": [
      "2\n"
     ]
    }
   ],
   "source": [
    "a = num \n",
    "print(a)"
   ]
  },
  {
   "cell_type": "code",
   "execution_count": 2,
   "id": "78455ea9",
   "metadata": {},
   "outputs": [],
   "source": [
    "count = 0\n",
    "candidate = None"
   ]
  },
  {
   "cell_type": "code",
   "execution_count": 3,
   "id": "b4dba445",
   "metadata": {},
   "outputs": [],
   "source": [
    "for num in nums:\n",
    "    if count==0:\n",
    "        candidate=num\n",
    "    \n",
    "    "
   ]
  },
  {
   "cell_type": "code",
   "execution_count": 4,
   "id": "4ed91658",
   "metadata": {},
   "outputs": [],
   "source": [
    "\n",
    "if num == candidate:\n",
    "    count+=1\n",
    "else :\n",
    "        count-=1"
   ]
  },
  {
   "cell_type": "code",
   "execution_count": 5,
   "id": "cb30c0c7",
   "metadata": {},
   "outputs": [
    {
     "name": "stdout",
     "output_type": "stream",
     "text": [
      "2\n"
     ]
    }
   ],
   "source": [
    "print(candidate)"
   ]
  }
 ],
 "metadata": {
  "kernelspec": {
   "display_name": "Python 3",
   "language": "python",
   "name": "python3"
  },
  "language_info": {
   "codemirror_mode": {
    "name": "ipython",
    "version": 3
   },
   "file_extension": ".py",
   "mimetype": "text/x-python",
   "name": "python",
   "nbconvert_exporter": "python",
   "pygments_lexer": "ipython3",
   "version": "3.12.7"
  }
 },
 "nbformat": 4,
 "nbformat_minor": 5
}
